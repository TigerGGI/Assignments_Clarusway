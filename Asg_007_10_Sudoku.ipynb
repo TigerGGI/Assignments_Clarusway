{
 "metadata": {
  "language_info": {
   "codemirror_mode": {
    "name": "ipython",
    "version": 3
   },
   "file_extension": ".py",
   "mimetype": "text/x-python",
   "name": "python",
   "nbconvert_exporter": "python",
   "pygments_lexer": "ipython3",
   "version": "3.9.1-final"
  },
  "orig_nbformat": 2,
  "kernelspec": {
   "name": "python3",
   "display_name": "Python 3.9.1 64-bit",
   "metadata": {
    "interpreter": {
     "hash": "00b37d5a3409d865e32e03c0ceb91090e1f120f9ca0c7853376407ad6c016540"
    }
   }
  }
 },
 "nbformat": 4,
 "nbformat_minor": 2,
 "cells": [
  {
   "cell_type": "code",
   "execution_count": 63,
   "metadata": {},
   "outputs": [
    {
     "output_type": "stream",
     "name": "stdout",
     "text": [
      "- - - - - - - - - - - - - -\n0  0  0 | 0  6  4 | 0  0  0\n7  0  0 | 0  0  0 | 3  9  0\n8  0  0 | 0  0  0 | 0  0  0\n- - - - - - - - - - - - - -\n0  0  0 | 5  0  2 | 0  6  0\n0  8  0 | 4  0  0 | 0  0  0\n3  5  0 | 6  0  0 | 0  7  0\n- - - - - - - - - - - - - -\n0  0  2 | 0  0  0 | 1  0  3\n0  0  1 | 0  5  9 | 0  0  0\n0  0  0 | 0  0  0 | 7  0  0\n- - - - - - - - - - - - - -\n"
     ]
    }
   ],
   "source": [
    "sudoku = [\n",
    "    [0, 0, 0, 0, 6, 4, 0, 0, 0],\n",
    "    [7, 0, 0, 0, 0, 0, 3, 9, 0],\n",
    "    [8, 0, 0, 0, 0, 0, 0, 0, 0],\n",
    "    [0, 0, 0, 5, 0, 2, 0, 6, 0],\n",
    "    [0, 8, 0, 4, 0, 0, 0, 0, 0],\n",
    "    [3, 5, 0, 6, 0, 0, 0, 7, 0],\n",
    "    [0, 0, 2, 0, 0, 0, 1, 0, 3],\n",
    "    [0, 0, 1, 0, 5, 9, 0, 0, 0],\n",
    "    [0, 0, 0, 0, 0, 0, 7, 0, 0]\n",
    "]\n",
    "\n",
    "print(* \"-\" * 14)\n",
    "counter = 0\n",
    "for i in range(len(sudoku)):\n",
    "    print(*sudoku[i][0:3], end=\" | \", sep=\"  \")\n",
    "    print(*sudoku[i][3:6], end=\" | \", sep=\"  \")\n",
    "    print(*sudoku[i][6:9], sep=\"  \", end=\"\\n\")\n",
    "    counter += 1\n",
    "    if counter % 3 == 0:\n",
    "        print(* \"-\" * 14)"
   ]
  }
 ]
}