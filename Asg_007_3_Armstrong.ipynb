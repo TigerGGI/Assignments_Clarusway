{
 "metadata": {
  "language_info": {
   "codemirror_mode": {
    "name": "ipython",
    "version": 3
   },
   "file_extension": ".py",
   "mimetype": "text/x-python",
   "name": "python",
   "nbconvert_exporter": "python",
   "pygments_lexer": "ipython3",
   "version": "3.9.1-final"
  },
  "orig_nbformat": 2,
  "kernelspec": {
   "name": "python3",
   "display_name": "Python 3.9.1 64-bit",
   "metadata": {
    "interpreter": {
     "hash": "00b37d5a3409d865e32e03c0ceb91090e1f120f9ca0c7853376407ad6c016540"
    }
   }
  }
 },
 "nbformat": 4,
 "nbformat_minor": 2,
 "cells": [
  {
   "cell_type": "code",
   "execution_count": 11,
   "metadata": {},
   "outputs": [
    {
     "output_type": "stream",
     "name": "stdout",
     "text": [
      "9474 is an Armstrong number\n"
     ]
    }
   ],
   "source": [
    "\n",
    "num = input(\"Enter a positive integer number: \")\n",
    "\n",
    "if not num.isnumeric():\n",
    "    print(\"It is an invalid entry. Don't use non-numeric, float, or negative values!\")\n",
    "else:\n",
    "    power = len(str(num))\n",
    "    num_list = list(num)\n",
    "    temp = 0\n",
    "    sum = 0 \n",
    "    for i in num_list:\n",
    "        temp = int(i) ** power\n",
    "        sum += temp\n",
    "    if sum == int(num):\n",
    "        print(num, \"is an Armstrong number\")\n",
    "    else:\n",
    "        print(num, \"is NOT an Armstrong number\")"
   ]
  }
 ]
}