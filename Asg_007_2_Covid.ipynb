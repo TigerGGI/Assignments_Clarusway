{
 "metadata": {
  "language_info": {
   "codemirror_mode": {
    "name": "ipython",
    "version": 3
   },
   "file_extension": ".py",
   "mimetype": "text/x-python",
   "name": "python",
   "nbconvert_exporter": "python",
   "pygments_lexer": "ipython3",
   "version": "3.9.1-final"
  },
  "orig_nbformat": 2,
  "kernelspec": {
   "name": "python3",
   "display_name": "Python 3.9.1 64-bit",
   "metadata": {
    "interpreter": {
     "hash": "00b37d5a3409d865e32e03c0ceb91090e1f120f9ca0c7853376407ad6c016540"
    }
   }
  }
 },
 "nbformat": 4,
 "nbformat_minor": 2,
 "cells": [
  {
   "cell_type": "code",
   "execution_count": 17,
   "metadata": {},
   "outputs": [
    {
     "output_type": "stream",
     "name": "stdout",
     "text": [
      "Please answer the questions 'Yes' or 'No'\n",
      "You are in risky group\n"
     ]
    }
   ],
   "source": [
    "# This program evaluates your Covid risk as high if any condition mets\n",
    "print(\"Please answer the questions 'Yes' or 'No'\")\n",
    "\n",
    "age = input(\"Are you a cigarette addict older than 75 years old?\").lower().strip() == \"yes\"\n",
    "chronic = input(\"Do you have a severe chronic disease?\").lower().strip() == \"yes\"\n",
    "immune = input(\"Is your immune system too weak?\").lower().strip() == \"yes\"\n",
    "\n",
    "if age or chronic or immune == True:\n",
    "    print(\"You are in risky group\")\n",
    "else:\n",
    "    print(\"You are not in risky group\")"
   ]
  }
 ]
}