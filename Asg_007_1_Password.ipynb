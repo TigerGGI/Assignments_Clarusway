{
 "metadata": {
  "language_info": {
   "codemirror_mode": {
    "name": "ipython",
    "version": 3
   },
   "file_extension": ".py",
   "mimetype": "text/x-python",
   "name": "python",
   "nbconvert_exporter": "python",
   "pygments_lexer": "ipython3",
   "version": "3.9.1-final"
  },
  "orig_nbformat": 2,
  "kernelspec": {
   "name": "python3",
   "display_name": "Python 3.9.1 64-bit",
   "metadata": {
    "interpreter": {
     "hash": "00b37d5a3409d865e32e03c0ceb91090e1f120f9ca0c7853376407ad6c016540"
    }
   }
  }
 },
 "nbformat": 4,
 "nbformat_minor": 2,
 "cells": [
  {
   "cell_type": "code",
   "execution_count": 5,
   "metadata": {},
   "outputs": [
    {
     "output_type": "stream",
     "name": "stdout",
     "text": [
      "Hello Ismail! The password is : W@12\n"
     ]
    }
   ],
   "source": [
    "name = input(\"Please enter your name to reach the password: \")\n",
    "pass_dict = {\"ismail\" : \"W@12\"}\n",
    "\n",
    "if name.lower().strip() in pass_dict.keys():\n",
    "    print(\"Hello {}! The password is : {}\".format(name.strip().title(), pass_dict[\"ismail\"]))\n",
    "else:\n",
    "    print(\"Hello {}! See you later.\".format(name.strip().title()))"
   ]
  }
 ]
}