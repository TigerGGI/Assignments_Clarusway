{
 "metadata": {
  "language_info": {
   "codemirror_mode": {
    "name": "ipython",
    "version": 3
   },
   "file_extension": ".py",
   "mimetype": "text/x-python",
   "name": "python",
   "nbconvert_exporter": "python",
   "pygments_lexer": "ipython3",
   "version": "3.9.1-final"
  },
  "orig_nbformat": 2,
  "kernelspec": {
   "name": "python3",
   "display_name": "Python 3.9.1 64-bit",
   "metadata": {
    "interpreter": {
     "hash": "00b37d5a3409d865e32e03c0ceb91090e1f120f9ca0c7853376407ad6c016540"
    }
   }
  }
 },
 "nbformat": 4,
 "nbformat_minor": 2,
 "cells": [
  {
   "cell_type": "code",
   "execution_count": 1,
   "metadata": {},
   "outputs": [
    {
     "output_type": "stream",
     "name": "stdout",
     "text": [
      "{'J': 1, 'o': 1, 's': 3, 'e': 3, 'p': 1, 'h': 2, ' ': 3, 'i': 1, 't': 2, 'b': 1}\n"
     ]
    }
   ],
   "source": [
    "sentence = input(\"Enter a sentence: \")\n",
    "chars = list(sentence)\n",
    "letters_dict = {}\n",
    "\n",
    "for i in chars:\n",
    "    letters_dict[i] = chars.count(i)\n",
    "    \n",
    "print(letters_dict)"
   ]
  }
 ]
}